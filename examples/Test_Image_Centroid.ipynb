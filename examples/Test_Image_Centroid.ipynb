{
 "cells": [
  {
   "cell_type": "markdown",
   "metadata": {},
   "source": [
    "# Test alignment procedure\n",
    "This file is used to test the alignment procedure using the center of the fiber core as a reference and the reflected laser beam."
   ]
  },
  {
   "cell_type": "code",
   "execution_count": null,
   "metadata": {},
   "outputs": [],
   "source": [
    "from time import sleep\n",
    "import numpy as np\n",
    "\n",
    "import matplotlib.pyplot as plt\n",
    "from matplotlib.patches import Circle\n",
    "import cv2\n",
    "\n",
    "import matplotlib\n",
    "\n",
    "matplotlib.rc('figure', figsize=(20, 10))"
   ]
  },
  {
   "cell_type": "code",
   "execution_count": null,
   "metadata": {},
   "outputs": [],
   "source": [
    "from dispertech.models.electronics.arduino import ArduinoModel\n",
    "from dispertech.models.cameras.basler import Camera\n",
    "from experimentor import Q_\n",
    "from experimentor.models.decorators import make_async_thread"
   ]
  },
  {
   "cell_type": "code",
   "execution_count": null,
   "metadata": {},
   "outputs": [],
   "source": [
    "ard = ArduinoModel(0)\n",
    "ard.initialize()\n",
    "ard.laser_power(25)"
   ]
  },
  {
   "cell_type": "code",
   "execution_count": null,
   "metadata": {},
   "outputs": [],
   "source": [
    "cam = Camera('da')\n",
    "cam.initialize()"
   ]
  },
  {
   "cell_type": "code",
   "execution_count": null,
   "metadata": {},
   "outputs": [],
   "source": [
    "# ard.move_mirror(0, 0, 2)\n",
    "cam.set_exposure(Q_('.01ms'))\n",
    "cam.trigger_camera()\n",
    "img = cam.read_camera()[0]\n",
    "mask = img>1000\n",
    "M = cv2.moments(mask*img)\n",
    "cx = M['m10']/M['m00']\n",
    "cy = M[\"m01\"] / M[\"m00\"]\n",
    "print(cx, cy)\n",
    "fig, ax = plt.subplots(1)\n",
    "ax.imshow(mask.T*img.T)\n",
    "circ = Circle((cy, cx), radius=15,color='red')\n",
    "ax.add_patch(circ)"
   ]
  },
  {
   "cell_type": "code",
   "execution_count": null,
   "metadata": {},
   "outputs": [],
   "source": [
    "plt.hist(img.reshape(img.size,1))"
   ]
  },
  {
   "cell_type": "code",
   "execution_count": null,
   "metadata": {},
   "outputs": [],
   "source": [
    "data = []\n",
    "max_data_points = 10\n",
    "accumulations_per_position = 50\n",
    "class Empty: pass\n",
    "e = Empty()\n",
    "@make_async_thread\n",
    "def acquire_data(e):\n",
    "    print('Starting...')\n",
    "    while True:\n",
    "        try:\n",
    "            data.append(([],[]))\n",
    "            for i in range(accumulations_per_position):\n",
    "                cam.trigger_camera()\n",
    "                img = cam.read_camera()[0]\n",
    "                if i==0: continue\n",
    "                mask = img>1000\n",
    "                M = cv2.moments(mask*img)\n",
    "                cx = M['m10']/M['m00']\n",
    "                cy = M[\"m01\"] / M[\"m00\"]\n",
    "                data[-1][0].append(cx)\n",
    "                data[-1][1].append(cy)\n",
    "            ard.move_mirror(5, 0, 1)\n",
    "            print(f'Finished position # {len(data)}')\n",
    "            print(f'Average position: ({np.mean(data[-1][0])}, {np.mean(data[-1][1])})')\n",
    "            if max_data_points and len(data) == max_data_points:\n",
    "                break\n",
    "        except KeyboardInterrupt:\n",
    "            break\n",
    "    print('Moving back')\n",
    "    for i in range(len(max_data_points)):\n",
    "        try:\n",
    "            data.append(([],[]))\n",
    "            for i in range(accumulations_per_position):\n",
    "                cam.trigger_camera()\n",
    "                img = cam.read_camera()[0]\n",
    "                if i==0: continue\n",
    "                mask = img>1000\n",
    "                M = cv2.moments(mask*img)\n",
    "                cx = M['m10']/M['m00']\n",
    "                cy = M[\"m01\"] / M[\"m00\"]\n",
    "                data[-1][0].append(cx)\n",
    "                data[-1][1].append(cy)\n",
    "            ard.move_mirror(5, 1, 1)\n",
    "            print(f'Finished position # {len(data)}')\n",
    "            print(f'Average position: ({np.mean(data[-1][0])}, {np.mean(data[-1][1])})')\n",
    "        except KeyboardInterrupt:\n",
    "            break\n",
    "acquire_data(e)"
   ]
  },
  {
   "cell_type": "code",
   "execution_count": null,
   "metadata": {},
   "outputs": [],
   "source": [
    "fig, ax = plt.subplots(2, figsize=(20,20))\n",
    "\n",
    "dt = np.array(data)\n",
    "C = np.zeros((2,len(data)))\n",
    "for i in range(len(data)):\n",
    "    ax[0].plot(data[i][0],data[i][1], 'o')\n",
    "    C[0][i] = np.mean(data[i][0])\n",
    "    C[1][i] = np.mean(data[i][1])\n",
    "\n",
    "ax[1].plot(C[0,:],C[1][:], '.-')\n",
    "ax[0].set_aspect('equal')\n",
    "ax[1].set_aspect('equal')"
   ]
  },
  {
   "cell_type": "code",
   "execution_count": null,
   "metadata": {},
   "outputs": [],
   "source": []
  }
 ],
 "metadata": {
  "kernelspec": {
   "display_name": "Python 3",
   "language": "python",
   "name": "python3"
  },
  "language_info": {
   "codemirror_mode": {
    "name": "ipython",
    "version": 3
   },
   "file_extension": ".py",
   "mimetype": "text/x-python",
   "name": "python",
   "nbconvert_exporter": "python",
   "pygments_lexer": "ipython3",
   "version": "3.7.3"
  }
 },
 "nbformat": 4,
 "nbformat_minor": 2
}
